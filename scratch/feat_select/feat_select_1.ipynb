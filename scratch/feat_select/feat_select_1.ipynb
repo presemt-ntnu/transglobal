{
 "metadata": {
  "name": "feat_select_1"
 },
 "nbformat": 3,
 "nbformat_minor": 0,
 "worksheets": [
  {
   "cells": [
    {
     "cell_type": "heading",
     "level": 1,
     "metadata": {},
     "source": [
      "Feature Selection"
     ]
    },
    {
     "cell_type": "markdown",
     "metadata": {},
     "source": [
      "Cross-validated feature selection with Chi2, Naive Bayes. Compare to results from cv1.py."
     ]
    },
    {
     "cell_type": "heading",
     "level": 2,
     "metadata": {},
     "source": [
      "Preliminaries"
     ]
    },
    {
     "cell_type": "markdown",
     "metadata": {},
     "source": [
      "The first step consist of creating the data sets and cross-validating a classifier with feature selection, for every ambiguous source lempos. Since this takes quite a long time (about half an hour), it is assumed that this has already been done by executing the cv1.py script. The results are stored in feat_select_1_results_de-en.npy.\n"
     ]
    },
    {
     "cell_type": "code",
     "collapsed": false,
     "input": [
      "import feat_select_1\n",
      "results = load(\"feat_select_1_results_de-en.npy\")"
     ],
     "language": "python",
     "metadata": {},
     "outputs": [],
     "prompt_number": 1
    },
    {
     "cell_type": "heading",
     "level": 2,
     "metadata": {},
     "source": [
      "Part-of-Speech"
     ]
    },
    {
     "cell_type": "code",
     "collapsed": false,
     "input": [
      "feat_select_1.pos(results)"
     ],
     "language": "python",
     "metadata": {},
     "outputs": [
      {
       "output_type": "stream",
       "stream": "stdout",
       "text": [
        "POS                    N    PREC     REC      F1\n",
        "------------------------------------------------\n",
        "adj                  861   67.91   68.19   67.90\n",
        "adv                  205   50.45   50.29   49.65\n",
        "appr                  43   56.80   58.24   56.62\n",
        "apzr                   1   54.94   55.47   55.12\n",
        "art                    5   39.72   40.23   39.94\n",
        "card                  13   28.30   53.31   23.68\n",
        "conj.comp              2   45.67   45.45   45.61\n",
        "conj.coord             3   36.91   36.61   38.53\n",
        "conj.sub*             14   50.01   50.06   50.25\n",
        "conj.subinf.-2         1   63.94   65.63   64.20\n",
        "itj                    9   58.02   58.22   51.52\n",
        "n                   2777   68.86   68.77   68.70\n",
        "part.verb              9   64.59   64.60   64.61\n",
        "pro                   27   45.09   39.71   40.58\n",
        "pro.dem                2   39.15   72.53   38.07\n",
        "pro.inter              5   62.26   62.23   62.25\n",
        "pro.poss               1   19.68   19.76   19.99\n",
        "pro.refl               1   73.95   74.66   73.88\n",
        "pro.rel                2   69.35   68.64   69.11\n",
        "v*.full             1421   60.95   60.95   60.91\n",
        "v*.mod                 5   45.77   46.02   45.83\n",
        "v*.sein                1   59.08   60.88   61.47\n",
        "------------------------------------------------\n"
       ]
      }
     ],
     "prompt_number": 5
    },
    {
     "cell_type": "markdown",
     "metadata": {},
     "source": [
      "So scores are generally somehwhat lower than without feature selection."
     ]
    },
    {
     "cell_type": "heading",
     "level": 2,
     "metadata": {},
     "source": [
      "Comparison to baseline"
     ]
    },
    {
     "cell_type": "code",
     "collapsed": false,
     "input": [
      "feat_select_1.plot_3(results)"
     ],
     "language": "python",
     "metadata": {},
     "outputs": [
      {
       "output_type": "display_data",
       "png": "[encoded data removed]"
      }
     ],
     "prompt_number": 10
    },
    {
     "cell_type": "markdown",
     "metadata": {},
     "source": [
      "Curves are virtally identical to those without feature selection."
     ]
    },
    {
     "cell_type": "heading",
     "level": 2,
     "metadata": {},
     "source": [
      "Discussion"
     ]
    },
    {
     "cell_type": "markdown",
     "metadata": {},
     "source": [
      "* Feature selection seems not to benefit performance.\n",
      "* May speed up processing and reduce memory consumption though."
     ]
    },
    {
     "cell_type": "code",
     "collapsed": false,
     "input": [],
     "language": "python",
     "metadata": {},
     "outputs": []
    }
   ],
   "metadata": {}
  }
 ]
}